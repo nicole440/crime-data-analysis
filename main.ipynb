{
 "cells": [
  {
   "attachments": {},
   "cell_type": "markdown",
   "metadata": {},
   "source": [
    "## Import Libraries and Data"
   ]
  },
  {
   "cell_type": "code",
   "execution_count": 1,
   "metadata": {},
   "outputs": [],
   "source": [
    "# Import libraries\n",
    "import csv\n",
    "import pandas as pd\n",
    "import numpy as np"
   ]
  },
  {
   "cell_type": "code",
   "execution_count": 2,
   "metadata": {},
   "outputs": [],
   "source": [
    "# Create pandas DataFrame from CSV file\n",
    "data = pd.read_csv('NYPD_Hate_Crimes.csv')\n",
    "df = pd.DataFrame(data)"
   ]
  },
  {
   "attachments": {},
   "cell_type": "markdown",
   "metadata": {},
   "source": [
    "## Explore and Clean Data"
   ]
  },
  {
   "cell_type": "code",
   "execution_count": 3,
   "metadata": {},
   "outputs": [
    {
     "name": "stdout",
     "output_type": "stream",
     "text": [
      "   Full Complaint ID  Complaint Year Number  Month Number Record Create Date   \n",
      "0    201904612204817                   2019             2         02/08/2019  \\\n",
      "1    201904812229517                   2019             3         03/09/2019   \n",
      "2    201904812231317                   2019             3         03/10/2019   \n",
      "3    201904812226617                   2019             3         03/08/2019   \n",
      "4    201904212405517                   2019             5         05/11/2019   \n",
      "5    201904212405517                   2019             5         05/11/2019   \n",
      "6    201904212405517                   2019             5         05/11/2019   \n",
      "7    201904012711317                   2019             6         06/01/2019   \n",
      "8    201904912495217                   2019             7         07/09/2019   \n",
      "9    201904712851617                   2019             8         08/05/2019   \n",
      "\n",
      "   Complaint Precinct Code Patrol Borough Name County   \n",
      "0                       46   PATROL BORO BRONX  BRONX  \\\n",
      "1                       48   PATROL BORO BRONX  BRONX   \n",
      "2                       48   PATROL BORO BRONX  BRONX   \n",
      "3                       48   PATROL BORO BRONX  BRONX   \n",
      "4                       42   PATROL BORO BRONX  BRONX   \n",
      "5                       42   PATROL BORO BRONX  BRONX   \n",
      "6                       42   PATROL BORO BRONX  BRONX   \n",
      "7                       40   PATROL BORO BRONX  BRONX   \n",
      "8                       49   PATROL BORO BRONX  BRONX   \n",
      "9                       47   PATROL BORO BRONX  BRONX   \n",
      "\n",
      "  Law Code Category Description           Offense Description   \n",
      "0                        FELONY                FELONY ASSAULT  \\\n",
      "1                   MISDEMEANOR  ASSAULT 3 & RELATED OFFENSES   \n",
      "2                   MISDEMEANOR  ASSAULT 3 & RELATED OFFENSES   \n",
      "3                   MISDEMEANOR  ASSAULT 3 & RELATED OFFENSES   \n",
      "4                        FELONY                       ROBBERY   \n",
      "5                        FELONY                       ROBBERY   \n",
      "6                        FELONY                       ROBBERY   \n",
      "7                        FELONY                          RAPE   \n",
      "8                        FELONY                FELONY ASSAULT   \n",
      "9                   MISDEMEANOR  ASSAULT 3 & RELATED OFFENSES   \n",
      "\n",
      "              PD Code Description     Bias Motive Description   \n",
      "0        ASSAULT 2,1,UNCLASSIFIED  ANTI-MALE HOMOSEXUAL (GAY)  \\\n",
      "1                       ASSAULT 3                  ANTI-WHITE   \n",
      "2                       ASSAULT 3                  ANTI-WHITE   \n",
      "3                       ASSAULT 3                  ANTI-WHITE   \n",
      "4  ROBBERY,POCKETBOOK/CARRIED BAG                 ANTI-MUSLIM   \n",
      "5  ROBBERY,POCKETBOOK/CARRIED BAG                 ANTI-MUSLIM   \n",
      "6  ROBBERY,POCKETBOOK/CARRIED BAG                 ANTI-MUSLIM   \n",
      "7                          RAPE 1                  ANTI-WHITE   \n",
      "8        ASSAULT 2,1,UNCLASSIFIED               ANTI-HISPANIC   \n",
      "9           MENACING,UNCLASSIFIED            ANTI-TRANSGENDER   \n",
      "\n",
      "                     Offense Category Arrest Date  Arrest Id  \n",
      "0                  Sexual Orientation  02/08/2019  B31678218  \n",
      "1                          Race/Color  03/09/2019  B31682790  \n",
      "2                          Race/Color  03/09/2019  B31682806  \n",
      "3                          Race/Color  03/09/2019  B31682806  \n",
      "4         Religion/Religious Practice  05/10/2019  B31692174  \n",
      "5         Religion/Religious Practice  05/10/2019  B31692175  \n",
      "6         Religion/Religious Practice  05/10/2019  B31692176  \n",
      "7                          Race/Color  06/14/2019  B31697030  \n",
      "8  Ethnicity/National Origin/Ancestry  07/21/2019  B31702150  \n",
      "9                              Gender  08/05/2019  B31704341  \n"
     ]
    }
   ],
   "source": [
    "# Preview data\n",
    "print(df.head(10))"
   ]
  },
  {
   "cell_type": "code",
   "execution_count": 4,
   "metadata": {},
   "outputs": [
    {
     "name": "stdout",
     "output_type": "stream",
     "text": [
      "Full Complaint ID                 int64\n",
      "Complaint Year Number             int64\n",
      "Month Number                      int64\n",
      "Record Create Date               object\n",
      "Complaint Precinct Code           int64\n",
      "Patrol Borough Name              object\n",
      "County                           object\n",
      "Law Code Category Description    object\n",
      "Offense Description              object\n",
      "PD Code Description              object\n",
      "Bias Motive Description          object\n",
      "Offense Category                 object\n",
      "Arrest Date                      object\n",
      "Arrest Id                        object\n",
      "dtype: object\n"
     ]
    }
   ],
   "source": [
    "# Print data types\n",
    "print(df.dtypes)"
   ]
  },
  {
   "cell_type": "code",
   "execution_count": 5,
   "metadata": {},
   "outputs": [
    {
     "name": "stdout",
     "output_type": "stream",
     "text": [
      "Bias Motive Description\n",
      "ANTI-PROTESTANT                        1\n",
      "ANTI_BLACK                             1\n",
      "ANTI-PHYSICAL DISABILITY               1\n",
      "60 YRS AND OLDER                       1\n",
      "ANTI-EASTERN ORTHODOX                  2\n",
      "ANTI-BUDDHIST                          3\n",
      "ANTI-JEHOVAHS WITNESS                  3\n",
      "ANTI-MULTI-RACIAL GROUPS               3\n",
      "ANTI-RELIGIOUS PRACTICE GENERALLY      3\n",
      "ANTI-SIKH                              4\n",
      "ANTI-OTHER RELIGION                    5\n",
      "ANTI-HINDU                             6\n",
      "ANTI-ARAB                              7\n",
      "ANTI-GENDER NON-CONFORMING             7\n",
      "ANTI-LGBT (MIXED GROUP)               11\n",
      "ANTI-FEMALE                           14\n",
      "ANTI-FEMALE HOMOSEXUAL (LESBIAN)      31\n",
      "ANTI-HISPANIC                         37\n",
      "ANTI-CATHOLIC                         40\n",
      "ANTI-TRANSGENDER                      53\n",
      "ANTI-MUSLIM                           53\n",
      "ANTI-OTHER ETHNICITY                  80\n",
      "ANTI-WHITE                            84\n",
      "ANTI-BLACK                           184\n",
      "ANTI-MALE HOMOSEXUAL (GAY)           253\n",
      "ANTI-ASIAN                           282\n",
      "ANTI-JEWISH                          931\n",
      "Name: count, dtype: int64\n"
     ]
    }
   ],
   "source": [
    "# Print list of Bias Motivation Descriptions and number of occurrences\n",
    "motive = df['Bias Motive Description'].value_counts(ascending=True)\n",
    "print(motive)\n",
    "\n",
    "# Note: The descriptions appear to have categories for \"ANTI_BLACK\" and \"ANTI-BLACK\"; the former should be changed to the latter for consistency"
   ]
  },
  {
   "cell_type": "code",
   "execution_count": 6,
   "metadata": {},
   "outputs": [
    {
     "name": "stdout",
     "output_type": "stream",
     "text": [
      "Bias Motive Description\n",
      "ANTI-PROTESTANT                        1\n",
      "ANTI-PHYSICAL DISABILITY               1\n",
      "60 YRS AND OLDER                       1\n",
      "ANTI-EASTERN ORTHODOX                  2\n",
      "ANTI-BUDDHIST                          3\n",
      "ANTI-JEHOVAHS WITNESS                  3\n",
      "ANTI-MULTI-RACIAL GROUPS               3\n",
      "ANTI-RELIGIOUS PRACTICE GENERALLY      3\n",
      "ANTI-SIKH                              4\n",
      "ANTI-OTHER RELIGION                    5\n",
      "ANTI-HINDU                             6\n",
      "ANTI-GENDER NON-CONFORMING             7\n",
      "ANTI-ARAB                              7\n",
      "ANTI-LGBT (MIXED GROUP)               11\n",
      "ANTI-FEMALE                           14\n",
      "ANTI-FEMALE HOMOSEXUAL (LESBIAN)      31\n",
      "ANTI-HISPANIC                         37\n",
      "ANTI-CATHOLIC                         40\n",
      "ANTI-TRANSGENDER                      53\n",
      "ANTI-MUSLIM                           53\n",
      "ANTI-OTHER ETHNICITY                  80\n",
      "ANTI-WHITE                            84\n",
      "ANTI-BLACK                           185\n",
      "ANTI-MALE HOMOSEXUAL (GAY)           253\n",
      "ANTI-ASIAN                           282\n",
      "ANTI-JEWISH                          931\n",
      "Name: count, dtype: int64\n"
     ]
    }
   ],
   "source": [
    "# Replace categorization error/type in the \"Bias Motive Description\" column\n",
    "df['Bias Motive Description'] = df['Bias Motive Description'].replace('ANTI_BLACK', 'ANTI-BLACK')\n",
    "\n",
    "print(df['Bias Motive Description'].value_counts(ascending=True))\n"
   ]
  },
  {
   "cell_type": "code",
   "execution_count": 7,
   "metadata": {},
   "outputs": [
    {
     "name": "stdout",
     "output_type": "stream",
     "text": [
      "Offense Category\n",
      "Age                                      1\n",
      "Disability                               1\n",
      "Race/Religious Practice                  2\n",
      "Gender                                  74\n",
      "Ethnicity/National Origin/Ancestry     124\n",
      "Sexual Orientation                     295\n",
      "Race/Color                             554\n",
      "Religion/Religious Practice           1049\n",
      "Name: count, dtype: int64\n"
     ]
    }
   ],
   "source": [
    "# Print list of Offense Category values and number of occurrences\n",
    "offense = df['Offense Category'].value_counts(ascending=True)\n",
    "print(offense)"
   ]
  },
  {
   "cell_type": "code",
   "execution_count": 8,
   "metadata": {},
   "outputs": [
    {
     "name": "stdout",
     "output_type": "stream",
     "text": [
      "      Full Complaint ID  Complaint Year Number  Month Number   \n",
      "0       201904612204817                   2019             2  \\\n",
      "13      202004412215017                   2020             2   \n",
      "18      202004012762317                   2020             7   \n",
      "19      202004012762317                   2020             7   \n",
      "21      202004812794517                   2020            10   \n",
      "...                 ...                    ...           ...   \n",
      "2027    202311012279217                   2023             3   \n",
      "2035    202210412412917                   2022             5   \n",
      "2084    202304312126217                   2023             1   \n",
      "2086    202310812182217                   2023             2   \n",
      "2097    202301012126417                   2023             2   \n",
      "\n",
      "     Record Create Date  Complaint Precinct Code       Patrol Borough Name   \n",
      "0            02/08/2019                       46         PATROL BORO BRONX  \\\n",
      "13           02/06/2020                       44         PATROL BORO BRONX   \n",
      "18           07/07/2020                       40         PATROL BORO BRONX   \n",
      "19           07/07/2020                       40         PATROL BORO BRONX   \n",
      "21           10/08/2020                       48         PATROL BORO BRONX   \n",
      "...                 ...                      ...                       ...   \n",
      "2027         03/03/2023                      110  PATROL BORO QUEENS NORTH   \n",
      "2035         05/27/2022                      104  PATROL BORO QUEENS NORTH   \n",
      "2084         01/13/2023                       43         PATROL BORO BRONX   \n",
      "2086         02/18/2023                      108  PATROL BORO QUEENS NORTH   \n",
      "2097         02/08/2023                       10     PATROL BORO MAN SOUTH   \n",
      "\n",
      "        County Law Code Category Description            Offense Description   \n",
      "0        BRONX                        FELONY                 FELONY ASSAULT  \\\n",
      "13       BRONX                   MISDEMEANOR   ASSAULT 3 & RELATED OFFENSES   \n",
      "18       BRONX                        FELONY                        ROBBERY   \n",
      "19       BRONX                        FELONY                        ROBBERY   \n",
      "21       BRONX                   MISDEMEANOR   ASSAULT 3 & RELATED OFFENSES   \n",
      "...        ...                           ...                            ...   \n",
      "2027    QUEENS                        FELONY                        ROBBERY   \n",
      "2035    QUEENS                   MISDEMEANOR  OFF. AGNST PUB ORD SENSBLTY &   \n",
      "2084     BRONX                        FELONY                 FELONY ASSAULT   \n",
      "2086    QUEENS                        FELONY                        ROBBERY   \n",
      "2097  NEW YORK                   MISDEMEANOR  OFF. AGNST PUB ORD SENSBLTY &   \n",
      "\n",
      "                     PD Code Description           Bias Motive Description   \n",
      "0               ASSAULT 2,1,UNCLASSIFIED        ANTI-MALE HOMOSEXUAL (GAY)  \\\n",
      "13                             ASSAULT 3        ANTI-MALE HOMOSEXUAL (GAY)   \n",
      "18        ROBBERY,OPEN AREA UNCLASSIFIED        ANTI-MALE HOMOSEXUAL (GAY)   \n",
      "19        ROBBERY,OPEN AREA UNCLASSIFIED        ANTI-MALE HOMOSEXUAL (GAY)   \n",
      "21                 MENACING,UNCLASSIFIED        ANTI-MALE HOMOSEXUAL (GAY)   \n",
      "...                                  ...                               ...   \n",
      "2027                    ROBBERY,CLOTHING        ANTI-MALE HOMOSEXUAL (GAY)   \n",
      "2035             AGGRAVATED HARASSMENT 2        ANTI-MALE HOMOSEXUAL (GAY)   \n",
      "2084            ASSAULT 2,1,UNCLASSIFIED  ANTI-FEMALE HOMOSEXUAL (LESBIAN)   \n",
      "2086  ROBBERY,PERSONAL ELECTRONIC DEVICE        ANTI-MALE HOMOSEXUAL (GAY)   \n",
      "2097             AGGRAVATED HARASSMENT 2        ANTI-MALE HOMOSEXUAL (GAY)   \n",
      "\n",
      "        Offense Category Arrest Date  Arrest Id  \n",
      "0     Sexual Orientation  02/08/2019  B31678218  \n",
      "13    Sexual Orientation  02/06/2020  B32676594  \n",
      "18    Sexual Orientation  07/07/2020  B32690509  \n",
      "19    Sexual Orientation  07/07/2020  B32690513  \n",
      "21    Sexual Orientation  10/08/2020  B32698112  \n",
      "...                  ...         ...        ...  \n",
      "2027  Sexual Orientation         NaN        NaN  \n",
      "2035  Sexual Orientation         NaN        NaN  \n",
      "2084  Sexual Orientation         NaN        NaN  \n",
      "2086  Sexual Orientation         NaN        NaN  \n",
      "2097  Sexual Orientation         NaN        NaN  \n",
      "\n",
      "[295 rows x 14 columns]\n"
     ]
    }
   ],
   "source": [
    "# Print rows where Offense Category listed is Sexual Orientation\n",
    "print(df[df['Offense Category'] == 'Sexual Orientation'])"
   ]
  }
 ],
 "metadata": {
  "kernelspec": {
   "display_name": "Python 3",
   "language": "python",
   "name": "python3"
  },
  "language_info": {
   "codemirror_mode": {
    "name": "ipython",
    "version": 3
   },
   "file_extension": ".py",
   "mimetype": "text/x-python",
   "name": "python",
   "nbconvert_exporter": "python",
   "pygments_lexer": "ipython3",
   "version": "3.11.3"
  },
  "orig_nbformat": 4
 },
 "nbformat": 4,
 "nbformat_minor": 2
}
